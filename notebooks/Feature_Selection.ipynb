{
 "cells": [
  {
   "cell_type": "markdown",
   "metadata": {},
   "source": [
    "# Feature Selection"
   ]
  },
  {
   "cell_type": "code",
   "execution_count": 78,
   "metadata": {},
   "outputs": [],
   "source": [
    "import numpy as np\n",
    "import pandas as pd\n",
    "from sklearn import preprocessing, metrics\n",
    "from sklearn.model_selection import train_test_split\n",
    "from sklearn.feature_extraction.text import TfidfVectorizer, CountVectorizer\n",
    "from sklearn.ensemble import ExtraTreesClassifier, RandomForestClassifier\n",
    "from sklearn.feature_selection import SelectPercentile, SelectFromModel, VarianceThreshold, RFE, mutual_info_classif\n",
    "from sklearn.linear_model import LogisticRegression\n",
    "from sklearn.naive_bayes import MultinomialNB\n",
    "from xgboost import XGBClassifier"
   ]
  },
  {
   "cell_type": "code",
   "execution_count": 42,
   "metadata": {},
   "outputs": [],
   "source": [
    "# importing normalized news body and title\n",
    "all_news = pd.read_csv(\"normalized_texts_labels.csv\")\n",
    "all_text = all_news.normalized_title.str.cat(all_news.normalized_text, sep=' ')\n",
    "y = all_news.fake\n",
    "# removing rows with missing values\n",
    "x = pd.notnull(all_text)\n",
    "y = y[x]\n",
    "all_text = all_text[x] "
   ]
  },
  {
   "cell_type": "code",
   "execution_count": 43,
   "metadata": {},
   "outputs": [],
   "source": [
    "xtrain, xvalid, ytrain, yvalid = train_test_split(all_text, y, stratify=y, random_state=42, test_size=0.1, shuffle=True)"
   ]
  },
  {
   "cell_type": "code",
   "execution_count": 44,
   "metadata": {},
   "outputs": [],
   "source": [
    "ctv = CountVectorizer(analyzer='word',token_pattern=r'\\w{1,}',\n",
    "            ngram_range=(1, 3), stop_words = 'english')\n",
    "\n",
    "# Fitting Count Vectorizer to both training and test sets (semi-supervised learning)\n",
    "ctv.fit(list(xtrain) + list(xvalid))\n",
    "xtrain_ctv =  ctv.transform(xtrain) \n",
    "xvalid_ctv = ctv.transform(xvalid)"
   ]
  },
  {
   "cell_type": "code",
   "execution_count": 45,
   "metadata": {},
   "outputs": [],
   "source": [
    "# Always start with these features. They work (almost) everytime!\n",
    "tfv = TfidfVectorizer(min_df=3,  max_features=None, \n",
    "            strip_accents='unicode', analyzer='word',token_pattern=r'\\w{1,}',\n",
    "            ngram_range=(1, 3), use_idf=1,smooth_idf=1,sublinear_tf=1,\n",
    "            stop_words = 'english')\n",
    "\n",
    "# Fitting TF-IDF to both training and test sets (semi-supervised learning)\n",
    "tfv.fit(list(xtrain) + list(xvalid))\n",
    "xtrain_tfv =  tfv.transform(xtrain) \n",
    "xvalid_tfv = tfv.transform(xvalid)"
   ]
  },
  {
   "cell_type": "markdown",
   "metadata": {},
   "source": [
    "## Univariate Statistics"
   ]
  },
  {
   "cell_type": "markdown",
   "metadata": {},
   "source": [
    "### F-score"
   ]
  },
  {
   "cell_type": "code",
   "execution_count": 73,
   "metadata": {},
   "outputs": [],
   "source": [
    "# removing features that only have zeros as entries (the univariate statistics approach doesn't work otherwise)\n",
    "selector = VarianceThreshold()\n",
    "s = selector.fit(xtrain_ctv)\n",
    "xt = s.transform(xtrain_ctv)\n",
    "xv = s.transform(xvalid_ctv)\n",
    "# use t_classif (the default) and SelectPercentile to select 50% of features\n",
    "select = SelectPercentile(percentile=50)\n",
    "select.fit(xt, ytrain)\n",
    "# transform validation set\n",
    "xt_selected = select.transform(xt)\n",
    "xv_selected = select.transform(xv)"
   ]
  },
  {
   "cell_type": "code",
   "execution_count": 66,
   "metadata": {},
   "outputs": [
    {
     "name": "stderr",
     "output_type": "stream",
     "text": [
      "C:\\Users\\Manvir\\AppData\\Local\\Continuum\\anaconda3\\lib\\site-packages\\sklearn\\linear_model\\logistic.py:433: FutureWarning: Default solver will be changed to 'lbfgs' in 0.22. Specify a solver to silence this warning.\n",
      "  FutureWarning)\n"
     ]
    },
    {
     "name": "stdout",
     "output_type": "stream",
     "text": [
      "Accuracy: 0.9520573801434503\n",
      "Precision: 0.9498580889309366\n",
      "Recall: 0.9313543599257885\n"
     ]
    }
   ],
   "source": [
    "clf = LogisticRegression(C=1.0)\n",
    "clf.fit(xt_selected, ytrain)\n",
    "y_pred=clf.predict(xv_selected)\n",
    "print(\"Accuracy:\",metrics.accuracy_score(yvalid, y_pred))\n",
    "print(\"Precision:\",metrics.precision_score(yvalid, y_pred))\n",
    "print(\"Recall:\",metrics.recall_score(yvalid, y_pred))"
   ]
  },
  {
   "cell_type": "code",
   "execution_count": 67,
   "metadata": {},
   "outputs": [
    {
     "name": "stdout",
     "output_type": "stream",
     "text": [
      "Accuracy: 0.8267270668176671\n",
      "Precision: 0.9936204146730463\n",
      "Recall: 0.577922077922078\n"
     ]
    }
   ],
   "source": [
    "clf = MultinomialNB()\n",
    "clf.fit(xt_selected, ytrain)\n",
    "y_pred=clf.predict(xv_selected)\n",
    "print(\"Accuracy:\",metrics.accuracy_score(yvalid, y_pred))\n",
    "print(\"Precision:\",metrics.precision_score(yvalid, y_pred))\n",
    "print(\"Recall:\",metrics.recall_score(yvalid, y_pred))"
   ]
  },
  {
   "cell_type": "code",
   "execution_count": 74,
   "metadata": {},
   "outputs": [
    {
     "name": "stdout",
     "output_type": "stream",
     "text": [
      "Accuracy: 0.9577198942997357\n",
      "Precision: 0.9488847583643123\n",
      "Recall: 0.9471243042671614\n"
     ]
    }
   ],
   "source": [
    "seed = 1234\n",
    "clf = XGBClassifier(max_depth=7, n_estimators=200, colsample_bytree=0.8, \n",
    "                    subsample=0.8, nthread=10, learning_rate=0.1)\n",
    "clf.fit(xt_selected, ytrain)\n",
    "y_pred=clf.predict(xv_selected)\n",
    "print(\"Accuracy:\",metrics.accuracy_score(yvalid, y_pred))\n",
    "print(\"Precision:\",metrics.precision_score(yvalid, y_pred))\n",
    "print(\"Recall:\",metrics.recall_score(yvalid, y_pred))"
   ]
  },
  {
   "cell_type": "code",
   "execution_count": 68,
   "metadata": {},
   "outputs": [],
   "source": [
    "# removing features that only have zeros as entries (the univariate statistics approach doesn't work otherwise)\n",
    "selector = VarianceThreshold()\n",
    "s = selector.fit(xtrain_tfv)\n",
    "xt = s.transform(xtrain_tfv)\n",
    "xv = s.transform(xvalid_tfv)\n",
    "# use t_classif (the default) and SelectPercentile to select 50% of features\n",
    "select = SelectPercentile(percentile=50)\n",
    "select.fit(xt, ytrain)\n",
    "# transform validation set\n",
    "xt_selected = select.transform(xt)\n",
    "xv_selected = select.transform(xv)"
   ]
  },
  {
   "cell_type": "code",
   "execution_count": 69,
   "metadata": {},
   "outputs": [
    {
     "name": "stderr",
     "output_type": "stream",
     "text": [
      "C:\\Users\\Manvir\\AppData\\Local\\Continuum\\anaconda3\\lib\\site-packages\\sklearn\\linear_model\\logistic.py:433: FutureWarning: Default solver will be changed to 'lbfgs' in 0.22. Specify a solver to silence this warning.\n",
      "  FutureWarning)\n"
     ]
    },
    {
     "name": "stdout",
     "output_type": "stream",
     "text": [
      "Accuracy: 0.947527368818422\n",
      "Precision: 0.9643916913946587\n",
      "Recall: 0.9044526901669759\n"
     ]
    }
   ],
   "source": [
    "clf = LogisticRegression(C=1.0)\n",
    "clf.fit(xt_selected, ytrain)\n",
    "y_pred=clf.predict(xv_selected)\n",
    "print(\"Accuracy:\",metrics.accuracy_score(yvalid, y_pred))\n",
    "print(\"Precision:\",metrics.precision_score(yvalid, y_pred))\n",
    "print(\"Recall:\",metrics.recall_score(yvalid, y_pred))"
   ]
  },
  {
   "cell_type": "code",
   "execution_count": 70,
   "metadata": {},
   "outputs": [
    {
     "name": "stdout",
     "output_type": "stream",
     "text": [
      "Accuracy: 0.7557568893922235\n",
      "Precision: 0.9976905311778291\n",
      "Recall: 0.4007421150278293\n"
     ]
    }
   ],
   "source": [
    "clf = MultinomialNB()\n",
    "clf.fit(xt_selected, ytrain)\n",
    "y_pred=clf.predict(xv_selected)\n",
    "print(\"Accuracy:\",metrics.accuracy_score(yvalid, y_pred))\n",
    "print(\"Precision:\",metrics.precision_score(yvalid, y_pred))\n",
    "print(\"Recall:\",metrics.recall_score(yvalid, y_pred))"
   ]
  },
  {
   "cell_type": "code",
   "execution_count": 72,
   "metadata": {},
   "outputs": [
    {
     "name": "stdout",
     "output_type": "stream",
     "text": [
      "Accuracy: 0.9528123820309551\n",
      "Precision: 0.9440820130475303\n",
      "Recall: 0.9397031539888683\n"
     ]
    }
   ],
   "source": [
    "seed = 1234\n",
    "clf = XGBClassifier(max_depth=7, n_estimators=200, colsample_bytree=0.8, \n",
    "                    subsample=0.8, nthread=10, learning_rate=0.1)\n",
    "clf.fit(xt_selected, ytrain)\n",
    "y_pred=clf.predict(xv_selected)\n",
    "print(\"Accuracy:\",metrics.accuracy_score(yvalid, y_pred))\n",
    "print(\"Precision:\",metrics.precision_score(yvalid, y_pred))\n",
    "print(\"Recall:\",metrics.recall_score(yvalid, y_pred))"
   ]
  },
  {
   "cell_type": "markdown",
   "metadata": {},
   "source": [
    "### Mutual Information"
   ]
  },
  {
   "cell_type": "code",
   "execution_count": null,
   "metadata": {},
   "outputs": [],
   "source": [
    "# removing features that only have zeros as entries (the univariate statistics approach doesn't work otherwise)\n",
    "selector = VarianceThreshold()\n",
    "s = selector.fit(xtrain_ctv)\n",
    "xt = s.transform(xtrain_ctv)\n",
    "xv = s.transform(xvalid_ctv)\n",
    "# use t_classif (the default) and SelectPercentile to select 50% of features\n",
    "select = SelectPercentile(score_func = mutual_info_classif,percentile=50)\n",
    "select.fit(xt, ytrain)\n",
    "# transform validation set\n",
    "xt_selected = select.transform(xt)\n",
    "xv_selected = select.transform(xv)"
   ]
  },
  {
   "cell_type": "code",
   "execution_count": null,
   "metadata": {},
   "outputs": [],
   "source": []
  },
  {
   "cell_type": "code",
   "execution_count": null,
   "metadata": {},
   "outputs": [],
   "source": []
  },
  {
   "cell_type": "markdown",
   "metadata": {},
   "source": [
    "## Model-Based Feature Selection"
   ]
  },
  {
   "cell_type": "markdown",
   "metadata": {},
   "source": [
    "### Random Forest"
   ]
  },
  {
   "cell_type": "code",
   "execution_count": 33,
   "metadata": {},
   "outputs": [],
   "source": [
    "select = SelectFromModel(\n",
    "    RandomForestClassifier(n_estimators=100, random_state=42),\n",
    "    threshold=\"median\")\n",
    "select.fit(xtrain_ctv, ytrain)\n",
    "xtrain_selected = select.transform(xtrain_ctv)\n",
    "xvalid_selected = select.transform(xvalid_ctv)"
   ]
  },
  {
   "cell_type": "code",
   "execution_count": 34,
   "metadata": {},
   "outputs": [
    {
     "name": "stderr",
     "output_type": "stream",
     "text": [
      "C:\\Users\\Manvir\\AppData\\Local\\Continuum\\anaconda3\\lib\\site-packages\\sklearn\\linear_model\\logistic.py:433: FutureWarning: Default solver will be changed to 'lbfgs' in 0.22. Specify a solver to silence this warning.\n",
      "  FutureWarning)\n"
     ]
    },
    {
     "name": "stdout",
     "output_type": "stream",
     "text": [
      "Accuracy: 0.9490373725934315\n",
      "Precision: 0.9394221808014911\n",
      "Recall: 0.935064935064935\n"
     ]
    }
   ],
   "source": [
    "clf = LogisticRegression(C=1.0)\n",
    "clf.fit(xtrain_selected, ytrain)\n",
    "y_pred=clf.predict(xvalid_selected)\n",
    "print(\"Accuracy:\",metrics.accuracy_score(yvalid, y_pred))\n",
    "print(\"Precision:\",metrics.precision_score(yvalid, y_pred))\n",
    "print(\"Recall:\",metrics.recall_score(yvalid, y_pred))"
   ]
  },
  {
   "cell_type": "code",
   "execution_count": 35,
   "metadata": {},
   "outputs": [
    {
     "name": "stdout",
     "output_type": "stream",
     "text": [
      "Accuracy: 0.922234805587014\n",
      "Precision: 0.9007352941176471\n",
      "Recall: 0.9090909090909091\n"
     ]
    }
   ],
   "source": [
    "clf = MultinomialNB()\n",
    "clf.fit(xtrain_selected, ytrain)\n",
    "y_pred=clf.predict(xvalid_selected)\n",
    "print(\"Accuracy:\",metrics.accuracy_score(yvalid, y_pred))\n",
    "print(\"Precision:\",metrics.precision_score(yvalid, y_pred))\n",
    "print(\"Recall:\",metrics.recall_score(yvalid, y_pred))"
   ]
  },
  {
   "cell_type": "code",
   "execution_count": 36,
   "metadata": {},
   "outputs": [],
   "source": [
    "select = SelectFromModel(\n",
    "    RandomForestClassifier(n_estimators=100, random_state=42),\n",
    "    threshold=\"median\")\n",
    "select.fit(xtrain_tfv, ytrain)\n",
    "xtrain_selected = select.transform(xtrain_tfv)\n",
    "xvalid_selected = select.transform(xvalid_tfv)"
   ]
  },
  {
   "cell_type": "code",
   "execution_count": 37,
   "metadata": {},
   "outputs": [
    {
     "name": "stderr",
     "output_type": "stream",
     "text": [
      "C:\\Users\\Manvir\\AppData\\Local\\Continuum\\anaconda3\\lib\\site-packages\\sklearn\\linear_model\\logistic.py:433: FutureWarning: Default solver will be changed to 'lbfgs' in 0.22. Specify a solver to silence this warning.\n",
      "  FutureWarning)\n"
     ]
    },
    {
     "name": "stdout",
     "output_type": "stream",
     "text": [
      "Accuracy: 0.9497923744809362\n",
      "Precision: 0.9664363277393879\n",
      "Recall: 0.9081632653061225\n"
     ]
    }
   ],
   "source": [
    "clf = LogisticRegression(C=1.0)\n",
    "clf.fit(xtrain_selected, ytrain)\n",
    "y_pred=clf.predict(xvalid_selected)\n",
    "print(\"Accuracy:\",metrics.accuracy_score(yvalid, y_pred))\n",
    "print(\"Precision:\",metrics.precision_score(yvalid, y_pred))\n",
    "print(\"Recall:\",metrics.recall_score(yvalid, y_pred))"
   ]
  },
  {
   "cell_type": "code",
   "execution_count": 38,
   "metadata": {},
   "outputs": [
    {
     "name": "stdout",
     "output_type": "stream",
     "text": [
      "Accuracy: 0.748961872404681\n",
      "Precision: 0.9975903614457832\n",
      "Recall: 0.38404452690166974\n"
     ]
    }
   ],
   "source": [
    "clf = MultinomialNB()\n",
    "clf.fit(xtrain_selected, ytrain)\n",
    "y_pred=clf.predict(xvalid_selected)\n",
    "print(\"Accuracy:\",metrics.accuracy_score(yvalid, y_pred))\n",
    "print(\"Precision:\",metrics.precision_score(yvalid, y_pred))\n",
    "print(\"Recall:\",metrics.recall_score(yvalid, y_pred))"
   ]
  },
  {
   "cell_type": "markdown",
   "metadata": {},
   "source": [
    "### Extra Trees"
   ]
  },
  {
   "cell_type": "code",
   "execution_count": null,
   "metadata": {},
   "outputs": [],
   "source": [
    "select = SelectFromModel(\n",
    "    ExtraTreesClassifier(n_estimators=100, random_state=42),\n",
    "    threshold=\"median\")\n",
    "select.fit(xtrain_ctv, ytrain)\n",
    "xtrain_selected = select.transform(xtrain_ctv)\n",
    "xvalid_selected = select.transform(xvalid_ctv)"
   ]
  },
  {
   "cell_type": "code",
   "execution_count": null,
   "metadata": {},
   "outputs": [],
   "source": [
    "clf = LogisticRegression(C=1.0)\n",
    "clf.fit(xtrain_selected, ytrain)\n",
    "y_pred=clf.predict(xvalid_selected)\n",
    "print(\"Accuracy:\",metrics.accuracy_score(yvalid, y_pred))\n",
    "print(\"Precision:\",metrics.precision_score(yvalid, y_pred))\n",
    "print(\"Recall:\",metrics.recall_score(yvalid, y_pred))"
   ]
  },
  {
   "cell_type": "code",
   "execution_count": null,
   "metadata": {},
   "outputs": [],
   "source": [
    "clf = MultinomialNB()\n",
    "clf.fit(xtrain_selected, ytrain)\n",
    "y_pred=clf.predict(xvalid_selected)\n",
    "print(\"Accuracy:\",metrics.accuracy_score(yvalid, y_pred))\n",
    "print(\"Precision:\",metrics.precision_score(yvalid, y_pred))\n",
    "print(\"Recall:\",metrics.recall_score(yvalid, y_pred))"
   ]
  },
  {
   "cell_type": "markdown",
   "metadata": {},
   "source": [
    "## Iterative Feature Selection"
   ]
  },
  {
   "cell_type": "code",
   "execution_count": null,
   "metadata": {},
   "outputs": [],
   "source": [
    "# recursive feature elimination will be used\n",
    "select = RFE(RandomForestClassifier(n_estimators=100, random_state=42),\n",
    "            n_features_to_select=40)\n",
    "select.fit(xtrain_ctv, ytrain)\n",
    "xtrain_rfe = select.transform(xtrain_ctv)\n",
    "xvalid_rfe = select.transform(xvalid_ctv)"
   ]
  },
  {
   "cell_type": "code",
   "execution_count": null,
   "metadata": {},
   "outputs": [],
   "source": []
  }
 ],
 "metadata": {
  "kernelspec": {
   "display_name": "Python 3",
   "language": "python",
   "name": "python3"
  },
  "language_info": {
   "codemirror_mode": {
    "name": "ipython",
    "version": 3
   },
   "file_extension": ".py",
   "mimetype": "text/x-python",
   "name": "python",
   "nbconvert_exporter": "python",
   "pygments_lexer": "ipython3",
   "version": "3.6.5"
  }
 },
 "nbformat": 4,
 "nbformat_minor": 2
}
