{
 "cells": [
  {
   "cell_type": "code",
   "execution_count": 37,
   "metadata": {},
   "outputs": [],
   "source": [
    "import pandas as pd\n",
    "import numpy as np\n",
    "from keras.preprocessing import text, sequence\n",
    "from keras.models import load_model\n",
    "from sklearn.model_selection import train_test_split\n",
    "from sklearn import preprocessing , metrics#, decomposition, model_selection, pipeline\n",
    "from sklearn.feature_extraction.text import TfidfVectorizer, CountVectorizer\n",
    "import pickle\n",
    "import matplotlib.pyplot as plt\n",
    "%matplotlib inline "
   ]
  },
  {
   "cell_type": "code",
   "execution_count": 2,
   "metadata": {},
   "outputs": [
    {
     "name": "stdout",
     "output_type": "stream",
     "text": [
      "# of NaN of text:109\n",
      "# of NaN of label:0\n",
      "dataset size:(26491, 2)\n"
     ]
    }
   ],
   "source": [
    "df = pd.read_csv(\"../data/normalized_texts_labels.csv\",encoding=\"utf-8\")\n",
    "df = df[[\"normalized_text\",\"fake\"]]\n",
    "df.columns = [\"texts\",\"labels\"]\n",
    "print(\"# of NaN of text:\" + str(df[\"texts\"].isnull().sum()))\n",
    "print(\"# of NaN of label:\" + str(df[\"labels\"].isnull().sum()))\n",
    "df = df.dropna()\n",
    "print(\"dataset size:\" + str(df.shape))"
   ]
  },
  {
   "cell_type": "code",
   "execution_count": 3,
   "metadata": {},
   "outputs": [],
   "source": [
    "train_texts, test_texts, train_labels, test_labels = train_test_split(df.texts, df.labels, \n",
    "                                                      stratify=df.labels, \n",
    "                                                      random_state=12345, \n",
    "                                                      test_size=0.1, shuffle=True)\n",
    "train_texts, val_texts, train_labels, val_labels = train_test_split(train_texts, train_labels, \n",
    "                                                      stratify=train_labels, \n",
    "                                                      random_state=12345, \n",
    "                                                      test_size=0.1, shuffle=True)"
   ]
  },
  {
   "cell_type": "markdown",
   "metadata": {},
   "source": [
    "# Feature extractions & encoding"
   ]
  },
  {
   "cell_type": "code",
   "execution_count": 4,
   "metadata": {},
   "outputs": [],
   "source": [
    "label_encoder = preprocessing.LabelBinarizer()\n",
    "label_encoder.fit(df[\"labels\"])\n",
    "train_labels_encoded, val_labels_encoded, test_labels_encoded = \\\n",
    "    label_encoder.transform(train_labels), \\\n",
    "    label_encoder.transform(val_labels), \\\n",
    "    label_encoder.transform(test_labels)"
   ]
  },
  {
   "cell_type": "code",
   "execution_count": 5,
   "metadata": {},
   "outputs": [],
   "source": [
    "feature_extractor_tfv = TfidfVectorizer(min_df=3,  max_features=None, \n",
    "            strip_accents='unicode', analyzer='word',token_pattern=r'\\w{1,}',\n",
    "            ngram_range=(1, 3), use_idf=1,smooth_idf=1,sublinear_tf=1,\n",
    "            stop_words = 'english')\n",
    "feature_extractor_tfv.fit(df[\"texts\"])\n",
    "train_texts_tfv, val_texts_tfv, test_texts_tfv = \\\n",
    "    feature_extractor_tfv.transform(train_texts), \\\n",
    "    feature_extractor_tfv.transform(val_texts), \\\n",
    "    feature_extractor_tfv.transform(test_texts)"
   ]
  },
  {
   "cell_type": "code",
   "execution_count": 6,
   "metadata": {},
   "outputs": [],
   "source": [
    "feature_extractor_ctv = CountVectorizer(analyzer='word',token_pattern=r'\\w{1,}',\n",
    "            ngram_range=(1, 3), stop_words = 'english')\n",
    "feature_extractor_ctv.fit(df[\"texts\"])\n",
    "train_texts_ctv, val_texts_ctv, test_texts_ctv = \\\n",
    "    feature_extractor_ctv.transform(train_texts), \\\n",
    "    feature_extractor_ctv.transform(val_texts), \\\n",
    "    feature_extractor_ctv.transform(test_texts)"
   ]
  },
  {
   "cell_type": "code",
   "execution_count": 7,
   "metadata": {},
   "outputs": [],
   "source": [
    "tokenizer = text.Tokenizer()\n",
    "tokenizer.fit_on_texts(df[\"texts\"])"
   ]
  },
  {
   "cell_type": "code",
   "execution_count": 8,
   "metadata": {},
   "outputs": [
    {
     "name": "stdout",
     "output_type": "stream",
     "text": [
      "Max # of tokens in docs: 14736\n",
      "Min # of tokens in docs: 1\n"
     ]
    }
   ],
   "source": [
    "# used in wordvec and cnn\n",
    "text_tokens = tokenizer.texts_to_sequences(df[\"texts\"])\n",
    "max_tokens_one_sent = 0\n",
    "min_tokens_one_sent = 1000000000\n",
    "for doc in text_tokens:\n",
    "    max_tokens_one_sent = max(max_tokens_one_sent, len(doc))\n",
    "    min_tokens_one_sent = min(min_tokens_one_sent, len(doc))\n",
    "print(\"Max # of tokens in docs: \" + str(max_tokens_one_sent))\n",
    "print(\"Min # of tokens in docs: \" + str(min_tokens_one_sent))"
   ]
  },
  {
   "cell_type": "code",
   "execution_count": 9,
   "metadata": {},
   "outputs": [],
   "source": [
    "def create_embedding_matrix(word_vector_file,tokenizer):\n",
    "    embeddings_index = {}\n",
    "    for i, line in enumerate(open(word_vector_file)):\n",
    "        values = line.split()\n",
    "        embeddings_index[values[0]] = np.asarray(values[1:], dtype='float32')\n",
    "    word_index = tokenizer.word_index\n",
    "    embedding_matrix = np.zeros((len(word_index) + 1, 300))\n",
    "    for word, i in word_index.items():\n",
    "        embedding_vector = embeddings_index.get(word)\n",
    "        if embedding_vector is not None:\n",
    "            embedding_matrix[i] = embedding_vector\n",
    "    return embedding_matrix\n",
    "embedding_matrix = create_embedding_matrix('../wordvecs/wiki-news-300d-1M.vec',tokenizer)"
   ]
  },
  {
   "cell_type": "code",
   "execution_count": 10,
   "metadata": {},
   "outputs": [],
   "source": [
    "def generate_word_sequence(texts,feature_dimension,tokenizer):\n",
    "    text_tokens = tokenizer.texts_to_sequences(texts)\n",
    "    text_seqences = sequence.pad_sequences(text_tokens, maxlen=feature_dimension)\n",
    "    return text_seqences"
   ]
  },
  {
   "cell_type": "markdown",
   "metadata": {},
   "source": [
    "Features we have right now:\n",
    "* train_texts_ctv, val_texts_ctv, test_texts_ctv\n",
    "* train_texts_tfv, val_texts_tfv, test_texts_tfv\n",
    "* train_labels_encoded, val_labels_encoded, test_labels_encoded\n",
    "\n",
    "Wordvec features:\n",
    "* embedding_matrix\n",
    "* text_tokens (tokenizer)\n",
    "* Function generate_word_sequence() used to generate wordvec features. Example usage: \n",
    "generate_word_sequence(df.texts,max_tokens_one_sent,tokenizer)\n",
    "* max_tokens_one_sent: used to set the padding of text sequence"
   ]
  },
  {
   "cell_type": "markdown",
   "metadata": {},
   "source": [
    "# Modeling Training"
   ]
  },
  {
   "cell_type": "code",
   "execution_count": 11,
   "metadata": {},
   "outputs": [
    {
     "name": "stderr",
     "output_type": "stream",
     "text": [
      "/Users/james/anaconda3/lib/python3.6/site-packages/sklearn/linear_model/logistic.py:433: FutureWarning: Default solver will be changed to 'lbfgs' in 0.22. Specify a solver to silence this warning.\n",
      "  FutureWarning)\n",
      "/Users/james/anaconda3/lib/python3.6/site-packages/sklearn/utils/validation.py:761: DataConversionWarning: A column-vector y was passed when a 1d array was expected. Please change the shape of y to (n_samples, ), for example using ravel().\n",
      "  y = column_or_1d(y, warn=True)\n"
     ]
    },
    {
     "data": {
      "text/plain": [
       "LogisticRegression(C=1.0, class_weight=None, dual=False, fit_intercept=True,\n",
       "          intercept_scaling=1, max_iter=100, multi_class='warn',\n",
       "          n_jobs=None, penalty='l2', random_state=None, solver='warn',\n",
       "          tol=0.0001, verbose=0, warm_start=False)"
      ]
     },
     "execution_count": 11,
     "metadata": {},
     "output_type": "execute_result"
    }
   ],
   "source": [
    "from sklearn.linear_model import LogisticRegression\n",
    "clf_lr_tfv = LogisticRegression(C=1.0)\n",
    "clf_lr_tfv.fit(train_texts_tfv, train_labels_encoded)\n",
    "clf_lr_ctv = LogisticRegression(C=1.0)\n",
    "clf_lr_ctv.fit(train_texts_ctv, train_labels_encoded)"
   ]
  },
  {
   "cell_type": "code",
   "execution_count": 12,
   "metadata": {},
   "outputs": [
    {
     "name": "stderr",
     "output_type": "stream",
     "text": [
      "/Users/james/anaconda3/lib/python3.6/site-packages/sklearn/utils/validation.py:761: DataConversionWarning: A column-vector y was passed when a 1d array was expected. Please change the shape of y to (n_samples, ), for example using ravel().\n",
      "  y = column_or_1d(y, warn=True)\n",
      "/Users/james/anaconda3/lib/python3.6/site-packages/sklearn/utils/validation.py:761: DataConversionWarning: A column-vector y was passed when a 1d array was expected. Please change the shape of y to (n_samples, ), for example using ravel().\n",
      "  y = column_or_1d(y, warn=True)\n"
     ]
    },
    {
     "data": {
      "text/plain": [
       "MultinomialNB(alpha=1.0, class_prior=None, fit_prior=True)"
      ]
     },
     "execution_count": 12,
     "metadata": {},
     "output_type": "execute_result"
    }
   ],
   "source": [
    "from sklearn.naive_bayes import MultinomialNB\n",
    "clf_nb_tfv = MultinomialNB()\n",
    "clf_nb_tfv.fit(train_texts_tfv, train_labels_encoded)\n",
    "clf_nb_ctv = MultinomialNB()\n",
    "clf_nb_ctv.fit(train_texts_ctv, train_labels_encoded)"
   ]
  },
  {
   "cell_type": "markdown",
   "metadata": {},
   "source": [
    "# Model Eval"
   ]
  },
  {
   "cell_type": "code",
   "execution_count": 13,
   "metadata": {},
   "outputs": [],
   "source": [
    "# list of classifier\n",
    "clf_names = [\"LR tfv\",\"NB tfv\",\"LR ctv\",\"NB ctv\"]\n",
    "clf_feature_list = [\"tfv\",\"tfv\",\"ctv\",\"ctv\"]\n",
    "clf_list = [clf_lr_tfv, clf_nb_tfv, clf_lr_ctv, clf_nb_ctv]"
   ]
  },
  {
   "cell_type": "code",
   "execution_count": 14,
   "metadata": {},
   "outputs": [],
   "source": [
    "prediction_prob_list = []\n",
    "for i in range(len(clf_list)):\n",
    "    if clf_feature_list[i] == \"tfv\":\n",
    "        prediction_prob_list.append(clf_list[i].predict_proba(val_texts_tfv)[:,1])\n",
    "    elif clf_feature_list[i] == \"ctv\":\n",
    "        prediction_prob_list.append(clf_list[i].predict_proba(val_texts_ctv)[:,1])\n",
    "    else:\n",
    "        raise ValueError(\"invalid feature categories!\")"
   ]
  },
  {
   "cell_type": "code",
   "execution_count": 25,
   "metadata": {},
   "outputs": [],
   "source": [
    "# Accuracy score for all classifier\n",
    "accuracy_list = []\n",
    "for i in range(len(clf_names)):\n",
    "    accuracy_list.append(metrics.accuracy_score(val_labels_encoded,prediction_prob_list[i]>0.5))"
   ]
  },
  {
   "cell_type": "code",
   "execution_count": 36,
   "metadata": {},
   "outputs": [
    {
     "name": "stdout",
     "output_type": "stream",
     "text": [
      "model LR tfv\n",
      "\t train acc 0.9778\n",
      "\t validation acc 0.9447\n",
      "model NB tfv\n",
      "\t train acc 0.7553\n",
      "\t validation acc 0.7220\n",
      "model LR ctv\n",
      "\t train acc 0.9999\n",
      "\t validation acc 0.9480\n",
      "model NB ctv\n",
      "\t train acc 0.9970\n",
      "\t validation acc 0.9283\n"
     ]
    }
   ],
   "source": [
    "# Is there an overfitting on above four models?\n",
    "prediction_prob_on_train_list = []\n",
    "for i in range(len(clf_list)):\n",
    "    if clf_feature_list[i] == \"tfv\":\n",
    "        prediction_prob_on_train_list.append(clf_list[i].predict_proba(train_texts_tfv)[:,1])\n",
    "    elif clf_feature_list[i] == \"ctv\":\n",
    "        prediction_prob_on_train_list.append(clf_list[i].predict_proba(train_texts_ctv)[:,1])\n",
    "    else:\n",
    "        raise ValueError(\"invalid feature categories!\")\n",
    "accuracy_on_train_set_list = []\n",
    "for i in range(len(clf_list)):\n",
    "    accuracy_on_train_set_list.append(metrics.accuracy_score(train_labels_encoded,prediction_prob_on_train_list[i]>0.5))\n",
    "for i in range(len(clf_list)):\n",
    "    print(\"model \" + clf_names[i])\n",
    "    print(\"\\t train acc %0.4f\" % accuracy_on_train_set_list[i])\n",
    "    print(\"\\t validation acc %0.4f\" % accuracy_list[i])"
   ]
  },
  {
   "cell_type": "code",
   "execution_count": 41,
   "metadata": {},
   "outputs": [
    {
     "data": {
      "text/plain": [
       "Text(0.5,1,'CNN training accuracy')"
      ]
     },
     "execution_count": 41,
     "metadata": {},
     "output_type": "execute_result"
    },
    {
     "data": {
      "image/png": "[encoded data removed]",
      "text/plain": [
       "<Figure size 432x288 with 1 Axes>"
      ]
     },
     "metadata": {},
     "output_type": "display_data"
    }
   ],
   "source": [
    "# This model trains on training set only.\n",
    "cnn_model = load_model('../saved_models/cnn_trained_on_trainset.model')\n",
    "with open('../saved_models/cnn.model.history.trained_on_trainset', 'rb') as file_pi:\n",
    "    history = pickle.load(file_pi)\n",
    "plt.figure()\n",
    "plt.plot(history['acc'])\n",
    "plt.xlabel('# of Epochs')\n",
    "plt.ylabel('Accuracy')\n",
    "plt.title('CNN training accuracy')"
   ]
  },
  {
   "cell_type": "code",
   "execution_count": 42,
   "metadata": {},
   "outputs": [
    {
     "name": "stdout",
     "output_type": "stream",
     "text": [
      "_________________________________________________________________\n",
      "Layer (type)                 Output Shape              Param #   \n",
      "=================================================================\n",
      "input_1 (InputLayer)         (None, 14736)             0         \n",
      "_________________________________________________________________\n",
      "embedding_1 (Embedding)      (None, 14736, 300)        40498500  \n",
      "_________________________________________________________________\n",
      "spatial_dropout1d_1 (Spatial (None, 14736, 300)        0         \n",
      "_________________________________________________________________\n",
      "conv1d_1 (Conv1D)            (None, 14734, 100)        90100     \n",
      "_________________________________________________________________\n",
      "global_max_pooling1d_1 (Glob (None, 100)               0         \n",
      "_________________________________________________________________\n",
      "dense_1 (Dense)              (None, 50)                5050      \n",
      "_________________________________________________________________\n",
      "dropout_1 (Dropout)          (None, 50)                0         \n",
      "_________________________________________________________________\n",
      "dense_2 (Dense)              (None, 1)                 51        \n",
      "=================================================================\n",
      "Total params: 40,593,701\n",
      "Trainable params: 95,201\n",
      "Non-trainable params: 40,498,500\n",
      "_________________________________________________________________\n"
     ]
    }
   ],
   "source": [
    "cnn_model.summary()"
   ]
  },
  {
   "cell_type": "code",
   "execution_count": 43,
   "metadata": {},
   "outputs": [
    {
     "data": {
      "image/svg+xml": [
       "<svg height=\"556pt\" viewBox=\"0.00 0.00 299.71 556.00\" width=\"300pt\" xmlns=\"http://www.w3.org/2000/svg\" xmlns:xlink=\"http://www.w3.org/1999/xlink\">\n",
       "<g class=\"graph\" id=\"graph0\" transform=\"scale(1 1) rotate(0) translate(4 552)\">\n",
       "<title>G</title>\n",
       "<polygon fill=\"white\" points=\"-4,4 -4,-552 295.707,-552 295.707,4 -4,4\" stroke=\"none\"/>\n",
       "<!-- 113067418904 -->\n",
       "<g class=\"node\" id=\"node1\"><title>113067418904</title>\n",
       "<polygon fill=\"none\" points=\"81.6724,-511.5 81.6724,-547.5 210.035,-547.5 210.035,-511.5 81.6724,-511.5\" stroke=\"black\"/>\n",
       "<text font-family=\"Times,serif\" font-size=\"14.00\" text-anchor=\"middle\" x=\"145.854\" y=\"-525.3\">input_1: InputLayer</text>\n",
       "</g>\n",
       "<!-- 113067419016 -->\n",
       "<g class=\"node\" id=\"node2\"><title>113067419016</title>\n",
       "<polygon fill=\"none\" points=\"63.7827,-438.5 63.7827,-474.5 227.924,-474.5 227.924,-438.5 63.7827,-438.5\" stroke=\"black\"/>\n",
       "<text font-family=\"Times,serif\" font-size=\"14.00\" text-anchor=\"middle\" x=\"145.854\" y=\"-452.3\">embedding_1: Embedding</text>\n",
       "</g>\n",
       "<!-- 113067418904&#45;&gt;113067419016 -->\n",
       "<g class=\"edge\" id=\"edge1\"><title>113067418904-&gt;113067419016</title>\n",
       "<path d=\"M145.854,-511.313C145.854,-503.289 145.854,-493.547 145.854,-484.569\" fill=\"none\" stroke=\"black\"/>\n",
       "<polygon fill=\"black\" points=\"149.354,-484.529 145.854,-474.529 142.354,-484.529 149.354,-484.529\" stroke=\"black\"/>\n",
       "</g>\n",
       "<!-- 113067417840 -->\n",
       "<g class=\"node\" id=\"node3\"><title>113067417840</title>\n",
       "<polygon fill=\"none\" points=\"25.2827,-365.5 25.2827,-401.5 266.424,-401.5 266.424,-365.5 25.2827,-365.5\" stroke=\"black\"/>\n",
       "<text font-family=\"Times,serif\" font-size=\"14.00\" text-anchor=\"middle\" x=\"145.854\" y=\"-379.3\">spatial_dropout1d_1: SpatialDropout1D</text>\n",
       "</g>\n",
       "<!-- 113067419016&#45;&gt;113067417840 -->\n",
       "<g class=\"edge\" id=\"edge2\"><title>113067419016-&gt;113067417840</title>\n",
       "<path d=\"M145.854,-438.313C145.854,-430.289 145.854,-420.547 145.854,-411.569\" fill=\"none\" stroke=\"black\"/>\n",
       "<polygon fill=\"black\" points=\"149.354,-411.529 145.854,-401.529 142.354,-411.529 149.354,-411.529\" stroke=\"black\"/>\n",
       "</g>\n",
       "<!-- 113067418736 -->\n",
       "<g class=\"node\" id=\"node4\"><title>113067418736</title>\n",
       "<polygon fill=\"none\" points=\"82.8276,-292.5 82.8276,-328.5 208.879,-328.5 208.879,-292.5 82.8276,-292.5\" stroke=\"black\"/>\n",
       "<text font-family=\"Times,serif\" font-size=\"14.00\" text-anchor=\"middle\" x=\"145.854\" y=\"-306.3\">conv1d_1: Conv1D</text>\n",
       "</g>\n",
       "<!-- 113067417840&#45;&gt;113067418736 -->\n",
       "<g class=\"edge\" id=\"edge3\"><title>113067417840-&gt;113067418736</title>\n",
       "<path d=\"M145.854,-365.313C145.854,-357.289 145.854,-347.547 145.854,-338.569\" fill=\"none\" stroke=\"black\"/>\n",
       "<polygon fill=\"black\" points=\"149.354,-338.529 145.854,-328.529 142.354,-338.529 149.354,-338.529\" stroke=\"black\"/>\n",
       "</g>\n",
       "<!-- 113067419352 -->\n",
       "<g class=\"node\" id=\"node5\"><title>113067419352</title>\n",
       "<polygon fill=\"none\" points=\"0,-219.5 0,-255.5 291.707,-255.5 291.707,-219.5 0,-219.5\" stroke=\"black\"/>\n",
       "<text font-family=\"Times,serif\" font-size=\"14.00\" text-anchor=\"middle\" x=\"145.854\" y=\"-233.3\">global_max_pooling1d_1: GlobalMaxPooling1D</text>\n",
       "</g>\n",
       "<!-- 113067418736&#45;&gt;113067419352 -->\n",
       "<g class=\"edge\" id=\"edge4\"><title>113067418736-&gt;113067419352</title>\n",
       "<path d=\"M145.854,-292.313C145.854,-284.289 145.854,-274.547 145.854,-265.569\" fill=\"none\" stroke=\"black\"/>\n",
       "<polygon fill=\"black\" points=\"149.354,-265.529 145.854,-255.529 142.354,-265.529 149.354,-265.529\" stroke=\"black\"/>\n",
       "</g>\n",
       "<!-- 113067419240 -->\n",
       "<g class=\"node\" id=\"node6\"><title>113067419240</title>\n",
       "<polygon fill=\"none\" points=\"93.7275,-146.5 93.7275,-182.5 197.979,-182.5 197.979,-146.5 93.7275,-146.5\" stroke=\"black\"/>\n",
       "<text font-family=\"Times,serif\" font-size=\"14.00\" text-anchor=\"middle\" x=\"145.854\" y=\"-160.3\">dense_1: Dense</text>\n",
       "</g>\n",
       "<!-- 113067419352&#45;&gt;113067419240 -->\n",
       "<g class=\"edge\" id=\"edge5\"><title>113067419352-&gt;113067419240</title>\n",
       "<path d=\"M145.854,-219.313C145.854,-211.289 145.854,-201.547 145.854,-192.569\" fill=\"none\" stroke=\"black\"/>\n",
       "<polygon fill=\"black\" points=\"149.354,-192.529 145.854,-182.529 142.354,-192.529 149.354,-192.529\" stroke=\"black\"/>\n",
       "</g>\n",
       "<!-- 113067418288 -->\n",
       "<g class=\"node\" id=\"node7\"><title>113067418288</title>\n",
       "<polygon fill=\"none\" points=\"82.0518,-73.5 82.0518,-109.5 209.655,-109.5 209.655,-73.5 82.0518,-73.5\" stroke=\"black\"/>\n",
       "<text font-family=\"Times,serif\" font-size=\"14.00\" text-anchor=\"middle\" x=\"145.854\" y=\"-87.3\">dropout_1: Dropout</text>\n",
       "</g>\n",
       "<!-- 113067419240&#45;&gt;113067418288 -->\n",
       "<g class=\"edge\" id=\"edge6\"><title>113067419240-&gt;113067418288</title>\n",
       "<path d=\"M145.854,-146.313C145.854,-138.289 145.854,-128.547 145.854,-119.569\" fill=\"none\" stroke=\"black\"/>\n",
       "<polygon fill=\"black\" points=\"149.354,-119.529 145.854,-109.529 142.354,-119.529 149.354,-119.529\" stroke=\"black\"/>\n",
       "</g>\n",
       "<!-- 113067418064 -->\n",
       "<g class=\"node\" id=\"node8\"><title>113067418064</title>\n",
       "<polygon fill=\"none\" points=\"93.7275,-0.5 93.7275,-36.5 197.979,-36.5 197.979,-0.5 93.7275,-0.5\" stroke=\"black\"/>\n",
       "<text font-family=\"Times,serif\" font-size=\"14.00\" text-anchor=\"middle\" x=\"145.854\" y=\"-14.3\">dense_2: Dense</text>\n",
       "</g>\n",
       "<!-- 113067418288&#45;&gt;113067418064 -->\n",
       "<g class=\"edge\" id=\"edge7\"><title>113067418288-&gt;113067418064</title>\n",
       "<path d=\"M145.854,-73.3129C145.854,-65.2895 145.854,-55.5475 145.854,-46.5691\" fill=\"none\" stroke=\"black\"/>\n",
       "<polygon fill=\"black\" points=\"149.354,-46.5288 145.854,-36.5288 142.354,-46.5289 149.354,-46.5288\" stroke=\"black\"/>\n",
       "</g>\n",
       "</g>\n",
       "</svg>"
      ],
      "text/plain": [
       "<IPython.core.display.SVG object>"
      ]
     },
     "execution_count": 43,
     "metadata": {},
     "output_type": "execute_result"
    }
   ],
   "source": [
    "from IPython.display import SVG\n",
    "from keras.utils.vis_utils import model_to_dot\n",
    "\n",
    "SVG(model_to_dot(cnn_model).create(prog='dot', format='svg'))"
   ]
  },
  {
   "cell_type": "code",
   "execution_count": 15,
   "metadata": {},
   "outputs": [],
   "source": [
    "prediction_prob_list.append(\n",
    "    cnn_model.predict(\n",
    "        generate_word_sequence(val_texts,max_tokens_one_sent,tokenizer)\n",
    "        ).squeeze()\n",
    "    )\n",
    "clf_names.append(\"CNN wordvec\")"
   ]
  },
  {
   "cell_type": "code",
   "execution_count": 18,
   "metadata": {},
   "outputs": [
    {
     "name": "stdout",
     "output_type": "stream",
     "text": [
      "CNN accuracy on training set: 0.9975\n",
      "CNN accuracy on validation set: 0.9564\n"
     ]
    }
   ],
   "source": [
    "# Is there an overfitting for CNN?\n",
    "prediction_prob_on_trainset = cnn_model.predict(\n",
    "        generate_word_sequence(train_texts,max_tokens_one_sent,tokenizer)\n",
    "        ).squeeze()\n",
    "acc_train_cnn = metrics.accuracy_score(train_labels_encoded,prediction_prob_on_trainset>0.5)\n",
    "acc_val_cnn = metrics.accuracy_score(val_labels_encoded,prediction_prob_list[-1]>0.5)\n",
    "print(\"CNN accuracy on training set: %0.4f\"%acc_train_cnn)\n",
    "print(\"CNN accuracy on validation set: %0.4f\"%acc_val_cnn)"
   ]
  },
  {
   "cell_type": "code",
   "execution_count": 19,
   "metadata": {},
   "outputs": [
    {
     "data": {
      "image/png": "[encoded data removed]",
      "text/plain": [
       "<Figure size 432x288 with 1 Axes>"
      ]
     },
     "metadata": {},
     "output_type": "display_data"
    }
   ],
   "source": [
    "# Plot ROC curve\n",
    "color_list = [\"red\",\"green\",\"blue\",\"brown\",\"magenta\",\"teal\"]\n",
    "plt.figure()\n",
    "lw = 2\n",
    "plt.plot([0, 1], [0, 1], color='navy', lw=lw, linestyle='--') # random guess base line\n",
    "auc_list = [] # for later plotting\n",
    "for i in range(len(clf_names)):\n",
    "    fpr, tpr, _  = metrics.roc_curve(val_labels_encoded,prediction_prob_list[i])\n",
    "    roc_auc = metrics.auc(fpr, tpr)\n",
    "    auc_list.append(roc_auc)\n",
    "    lw = 2\n",
    "    plt.plot(fpr, tpr, color=color_list[i],\n",
    "         lw=lw, label=clf_names[i]+' (AUC = %0.4f)' % roc_auc)\n",
    "plt.xlim([0.0, 1.0])\n",
    "plt.ylim([0.0, 1.05])\n",
    "plt.xlabel('False Positive Rate')\n",
    "plt.ylabel('True Positive Rate')\n",
    "plt.title('Receiver operating characteristic')\n",
    "plt.legend(loc=\"lower right\")\n",
    "plt.show()"
   ]
  },
  {
   "cell_type": "code",
   "execution_count": 21,
   "metadata": {},
   "outputs": [
    {
     "data": {
      "image/png": "[encoded data removed]",
      "text/plain": [
       "<Figure size 640x480 with 2 Axes>"
      ]
     },
     "metadata": {},
     "output_type": "display_data"
    }
   ],
   "source": [
    "plt.rcdefaults()\n",
    "fig, ax = plt.subplots(nrows=1, ncols=2)\n",
    "y_pos = np.arange(len(accuracy_list))\n",
    "ax[0].barh(y_pos, accuracy_list, align='center',\n",
    "        color=color_list)\n",
    "ax[0].set_xlim(0.65,1)\n",
    "ax[0].set_yticks(y_pos)\n",
    "ax[0].set_yticklabels(clf_names)\n",
    "ax[0].invert_yaxis()  # labels read top-to-bottom\n",
    "ax[0].set_xlabel('Accuracy')\n",
    "ax[0].set_title('Accuracy Score (0.5 threshold)')\n",
    "for i, v in enumerate(accuracy_list):\n",
    "    ax[0].text(v + 0.003, i, '%0.4f' % v, color='blue', fontweight='bold')\n",
    "\n",
    "y_pos = np.arange(len(auc_list))\n",
    "ax[1].barh(y_pos, auc_list, align='center',\n",
    "        color=color_list)\n",
    "ax[1].set_xlim(0.95,1)\n",
    "ax[1].set_yticks(y_pos)\n",
    "ax[1].set_yticklabels(clf_names)\n",
    "ax[1].invert_yaxis()  # labels read top-to-bottom\n",
    "ax[1].set_xlabel('AUC')\n",
    "ax[1].set_title('AUC Score')\n",
    "for i, v in enumerate(auc_list):\n",
    "    ax[1].text(v + 0.003, i, '%0.4f' % v, color='blue', fontweight='bold')\n",
    "\n",
    "plt.subplots_adjust(wspace = 1)\n",
    "plt.show()"
   ]
  },
  {
   "cell_type": "markdown",
   "metadata": {},
   "source": [
    "# Final evaluation on test set\n",
    "Since CNN + wordvec shows the best performance on validation set, we choose it as final models for this excercise.\n",
    "A model is trained on the training set and validation set. We have saved it in the disk and will have to reload it to memory."
   ]
  },
  {
   "cell_type": "code",
   "execution_count": 22,
   "metadata": {},
   "outputs": [],
   "source": [
    "cnn_model_on_train_val_set = load_model('../saved_models/cnn_trained_on_trainset_and_valset.model')\n",
    "predition_prob = cnn_model_on_train_val_set.predict(\n",
    "        generate_word_sequence(test_texts,max_tokens_one_sent,tokenizer)\n",
    "        ).squeeze()"
   ]
  },
  {
   "cell_type": "code",
   "execution_count": 23,
   "metadata": {},
   "outputs": [
    {
     "name": "stdout",
     "output_type": "stream",
     "text": [
      "0.9747169811320755\n"
     ]
    }
   ],
   "source": [
    "# Accuracy on test set\n",
    "print(metrics.accuracy_score(test_labels_encoded,predition_prob>0.5))"
   ]
  },
  {
   "cell_type": "code",
   "execution_count": 24,
   "metadata": {},
   "outputs": [
    {
     "data": {
      "image/png": "[encoded data removed]",
      "text/plain": [
       "<Figure size 640x480 with 1 Axes>"
      ]
     },
     "metadata": {},
     "output_type": "display_data"
    }
   ],
   "source": [
    "# Plot ROC curve\n",
    "plt.figure()\n",
    "lw = 2\n",
    "plt.plot([0, 1], [0, 1], color='navy', lw=lw, linestyle='--') # random guess base line\n",
    "fpr, tpr, _  = metrics.roc_curve(test_labels_encoded,predition_prob)\n",
    "roc_auc = metrics.auc(fpr, tpr)\n",
    "plt.plot(fpr, tpr, color=\"b\",\n",
    "         lw=lw, label='CNN + wordvec (AUC = %0.4f)' % roc_auc)\n",
    "plt.xlim([0.0, 1.0])\n",
    "plt.ylim([0.0, 1.05])\n",
    "plt.xlabel('False Positive Rate')\n",
    "plt.ylabel('True Positive Rate')\n",
    "plt.title('Receiver operating characteristic')\n",
    "plt.legend(loc=\"lower right\")\n",
    "plt.show()"
   ]
  },
  {
   "cell_type": "code",
   "execution_count": null,
   "metadata": {},
   "outputs": [],
   "source": []
  }
 ],
 "metadata": {
  "kernelspec": {
   "display_name": "Python 3",
   "language": "python",
   "name": "python3"
  },
  "language_info": {
   "codemirror_mode": {
    "name": "ipython",
    "version": 3
   },
   "file_extension": ".py",
   "mimetype": "text/x-python",
   "name": "python",
   "nbconvert_exporter": "python",
   "pygments_lexer": "ipython3",
   "version": "3.6.6"
  }
 },
 "nbformat": 4,
 "nbformat_minor": 2
}
